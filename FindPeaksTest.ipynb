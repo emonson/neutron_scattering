{
 "cells": [
  {
   "cell_type": "markdown",
   "metadata": {},
   "source": [
    "## Find peaks\n",
    "\n",
    "- https://github.com/ig248/pyampd\n",
    "- https://github.com/ig248/pyampd/blob/master/notebooks/ampd.ipynb\n",
    "\n",
    "Ran `LinesOverSphereGather.py` in Paraview on Nb5k image data time series\n",
    "\n",
    "Want to find the peaks of intensity over radial lines from center of data set so maybe can produce a surface on those manifolds"
   ]
  },
  {
   "cell_type": "code",
   "execution_count": 1,
   "metadata": {},
   "outputs": [],
   "source": [
    "import numpy as np\n",
    "import pandas as pd\n",
    "import matplotlib.pyplot as plt\n",
    "from scipy.signal import find_peaks_cwt\n",
    "from pyampd.ampd import find_peaks, find_peaks_original, find_peaks_adaptive"
   ]
  },
  {
   "cell_type": "code",
   "execution_count": 2,
   "metadata": {},
   "outputs": [
    {
     "data": {
      "text/html": [
       "<div>\n",
       "<style scoped>\n",
       "    .dataframe tbody tr th:only-of-type {\n",
       "        vertical-align: middle;\n",
       "    }\n",
       "\n",
       "    .dataframe tbody tr th {\n",
       "        vertical-align: top;\n",
       "    }\n",
       "\n",
       "    .dataframe thead th {\n",
       "        text-align: right;\n",
       "    }\n",
       "</style>\n",
       "<table border=\"1\" class=\"dataframe\">\n",
       "  <thead>\n",
       "    <tr style=\"text-align: right;\">\n",
       "      <th></th>\n",
       "      <th>pointindex</th>\n",
       "      <th>intensity</th>\n",
       "      <th>px</th>\n",
       "      <th>py</th>\n",
       "      <th>pz</th>\n",
       "      <th>timestep</th>\n",
       "      <th>lineindex</th>\n",
       "    </tr>\n",
       "  </thead>\n",
       "  <tbody>\n",
       "    <tr>\n",
       "      <th>0</th>\n",
       "      <td>0</td>\n",
       "      <td>0.0</td>\n",
       "      <td>0.000000</td>\n",
       "      <td>0.0</td>\n",
       "      <td>0.00000</td>\n",
       "      <td>0</td>\n",
       "      <td>0</td>\n",
       "    </tr>\n",
       "    <tr>\n",
       "      <th>1</th>\n",
       "      <td>1</td>\n",
       "      <td>0.0</td>\n",
       "      <td>0.000705</td>\n",
       "      <td>0.0</td>\n",
       "      <td>0.00495</td>\n",
       "      <td>0</td>\n",
       "      <td>0</td>\n",
       "    </tr>\n",
       "    <tr>\n",
       "      <th>2</th>\n",
       "      <td>2</td>\n",
       "      <td>0.0</td>\n",
       "      <td>0.001411</td>\n",
       "      <td>0.0</td>\n",
       "      <td>0.00990</td>\n",
       "      <td>0</td>\n",
       "      <td>0</td>\n",
       "    </tr>\n",
       "    <tr>\n",
       "      <th>3</th>\n",
       "      <td>3</td>\n",
       "      <td>0.0</td>\n",
       "      <td>0.002116</td>\n",
       "      <td>0.0</td>\n",
       "      <td>0.01485</td>\n",
       "      <td>0</td>\n",
       "      <td>0</td>\n",
       "    </tr>\n",
       "    <tr>\n",
       "      <th>4</th>\n",
       "      <td>4</td>\n",
       "      <td>0.0</td>\n",
       "      <td>0.002821</td>\n",
       "      <td>0.0</td>\n",
       "      <td>0.01980</td>\n",
       "      <td>0</td>\n",
       "      <td>0</td>\n",
       "    </tr>\n",
       "  </tbody>\n",
       "</table>\n",
       "</div>"
      ],
      "text/plain": [
       "   pointindex  intensity        px   py       pz  timestep  lineindex\n",
       "0           0        0.0  0.000000  0.0  0.00000         0          0\n",
       "1           1        0.0  0.000705  0.0  0.00495         0          0\n",
       "2           2        0.0  0.001411  0.0  0.00990         0          0\n",
       "3           3        0.0  0.002116  0.0  0.01485         0          0\n",
       "4           4        0.0  0.002821  0.0  0.01980         0          0"
      ]
     },
     "execution_count": 2,
     "metadata": {},
     "output_type": "execute_result"
    }
   ],
   "source": [
    "df = pd.read_csv('data_pol_all.csv', sep=',', encoding='utf-8')\n",
    "df.head()"
   ]
  },
  {
   "cell_type": "markdown",
   "metadata": {},
   "source": [
    "### Finding Peaks: New vs Original\n",
    "\n",
    "- `find_peaks()` always seems to find a \"peak\" at the end of the data set\n",
    "- `find_peaks_original()` doesn't put a \"peak\" at the end\n",
    "- Limiting `scale` seems to allow smaller peaks to be found, too, besides being faster"
   ]
  },
  {
   "cell_type": "code",
   "execution_count": 3,
   "metadata": {},
   "outputs": [
    {
     "name": "stdout",
     "output_type": "stream",
     "text": [
      "[22 54]\n"
     ]
    },
    {
     "data": {
      "text/plain": [
       "[<matplotlib.lines.Line2D at 0x7fda283c5280>]"
      ]
     },
     "execution_count": 3,
     "metadata": {},
     "output_type": "execute_result"
    },
    {
     "data": {
      "image/png": "[encoded data removed]",
      "text/plain": [
       "<Figure size 432x288 with 1 Axes>"
      ]
     },
     "metadata": {
      "needs_background": "light"
     },
     "output_type": "display_data"
    }
   ],
   "source": [
    "df1 = df.loc[(df['timestep']==20) & (df['lineindex']==45),['pointindex','intensity']]\n",
    "\n",
    "t = df1['pointindex'].values\n",
    "x = df1['intensity'].values\n",
    "pks = find_peaks_original(x, scale=10)\n",
    "\n",
    "print(pks)\n",
    "\n",
    "plt.plot(t, x, '-')\n",
    "plt.plot(t[pks], x[pks], 'rs')"
   ]
  },
  {
   "cell_type": "code",
   "execution_count": 4,
   "metadata": {},
   "outputs": [
    {
     "name": "stdout",
     "output_type": "stream",
     "text": [
      "[  0 108]\n"
     ]
    },
    {
     "data": {
      "text/plain": [
       "[<matplotlib.lines.Line2D at 0x7fda884c33a0>]"
      ]
     },
     "execution_count": 4,
     "metadata": {},
     "output_type": "execute_result"
    },
    {
     "data": {
      "image/png": "[encoded data removed]",
      "text/plain": [
       "<Figure size 432x288 with 1 Axes>"
      ]
     },
     "metadata": {
      "needs_background": "light"
     },
     "output_type": "display_data"
    }
   ],
   "source": [
    "df1 = df.loc[(df['timestep']==1) & (df['lineindex']==45),['pointindex','intensity']]\n",
    "\n",
    "t = df1['pointindex'].values\n",
    "x = df1['intensity'].values\n",
    "pks = find_peaks_adaptive(x, window=40)\n",
    "\n",
    "print(pks)\n",
    "\n",
    "plt.plot(t, x, '-')\n",
    "plt.plot(t[pks], x[pks], 'rs')"
   ]
  },
  {
   "cell_type": "code",
   "execution_count": 5,
   "metadata": {},
   "outputs": [],
   "source": [
    "import peakdetect\n"
   ]
  },
  {
   "cell_type": "markdown",
   "metadata": {},
   "source": [
    "### Alternative method that seems to work fine and is slightly faster\n",
    "\n",
    "[https://github.com/anaxilaus/peakdetect/blob/master/peakdetect/peakdetect.py]()"
   ]
  },
  {
   "cell_type": "code",
   "execution_count": 6,
   "metadata": {},
   "outputs": [
    {
     "name": "stdout",
     "output_type": "stream",
     "text": [
      "[[[9, 2.189372801881228]], [[5, 1.802096812947604]]]\n"
     ]
    },
    {
     "data": {
      "text/plain": [
       "[<matplotlib.lines.Line2D at 0x7fda402e0b50>]"
      ]
     },
     "execution_count": 6,
     "metadata": {},
     "output_type": "execute_result"
    },
    {
     "data": {
      "image/png": "[encoded data removed]",
      "text/plain": [
       "<Figure size 432x288 with 1 Axes>"
      ]
     },
     "metadata": {
      "needs_background": "light"
     },
     "output_type": "display_data"
    }
   ],
   "source": [
    "df1 = df.loc[(df['timestep']==6) & (df['lineindex']==30),['pointindex','intensity']]\n",
    "\n",
    "t = df1['pointindex'].values\n",
    "x = df1['intensity'].values\n",
    "pos_neg_pks = peakdetect.peakdetect(x, lookahead=4, delta=0.05)\n",
    "\n",
    "print(pos_neg_pks)\n",
    "\n",
    "pks = [pp[0] for pp in pos_neg_pks[0]]\n",
    "\n",
    "plt.plot(t, x, '-')\n",
    "plt.plot(t[pks], x[pks], 'rs')"
   ]
  },
  {
   "cell_type": "markdown",
   "metadata": {},
   "source": [
    "### Original seems slightly faster for our data"
   ]
  },
  {
   "cell_type": "code",
   "execution_count": 7,
   "metadata": {},
   "outputs": [],
   "source": [
    "x = df.loc[(df['timestep']==20) & (df['lineindex']==45),'intensity'].values"
   ]
  },
  {
   "cell_type": "code",
   "execution_count": 8,
   "metadata": {},
   "outputs": [
    {
     "name": "stdout",
     "output_type": "stream",
     "text": [
      "480 µs ± 7.31 µs per loop (mean ± std. dev. of 7 runs, 1000 loops each)\n"
     ]
    }
   ],
   "source": [
    "%timeit find_peaks_original(x, scale=10)"
   ]
  },
  {
   "cell_type": "code",
   "execution_count": 9,
   "metadata": {},
   "outputs": [
    {
     "name": "stdout",
     "output_type": "stream",
     "text": [
      "521 µs ± 4.86 µs per loop (mean ± std. dev. of 7 runs, 1000 loops each)\n"
     ]
    }
   ],
   "source": [
    "%timeit find_peaks(x, scale=10)"
   ]
  },
  {
   "cell_type": "code",
   "execution_count": 10,
   "metadata": {},
   "outputs": [
    {
     "name": "stdout",
     "output_type": "stream",
     "text": [
      "718 µs ± 2.18 µs per loop (mean ± std. dev. of 7 runs, 1000 loops each)\n"
     ]
    }
   ],
   "source": [
    "%timeit find_peaks_adaptive(x, window=40)"
   ]
  },
  {
   "cell_type": "code",
   "execution_count": 11,
   "metadata": {},
   "outputs": [
    {
     "name": "stdout",
     "output_type": "stream",
     "text": [
      "214 µs ± 1.5 µs per loop (mean ± std. dev. of 7 runs, 1000 loops each)\n"
     ]
    }
   ],
   "source": [
    "%timeit peakdetect.peakdetect(x, lookahead=3, delta=0.005)"
   ]
  },
  {
   "cell_type": "markdown",
   "metadata": {},
   "source": [
    "### Loop through all"
   ]
  },
  {
   "cell_type": "code",
   "execution_count": 12,
   "metadata": {},
   "outputs": [
    {
     "name": "stdout",
     "output_type": "stream",
     "text": [
      "[0, 1, 2, 3, 4, 5, 6, 7, 8, 9, 10, 11, 12, 13, 14, 15, 16, 17, 18, 19, 20, 21, 22, 23, 24, 25, 26, 27, 28, 29, 30, 31, 32, 33, 34, 35, 36, 37, 38, 39, 40, 41, 42, 43, 44, 45, 46, 47, 48, 49, 50, 51, 52, 53, 54, 55, 56, 57, 58, 59, 60]\n"
     ]
    }
   ],
   "source": [
    "timesteps = df['timestep'].unique().tolist()\n",
    "print(timesteps)"
   ]
  },
  {
   "cell_type": "code",
   "execution_count": 13,
   "metadata": {},
   "outputs": [
    {
     "name": "stdout",
     "output_type": "stream",
     "text": [
      "[0, 1, 2, 3, 4, 5, 6, 7, 8, 9, 10, 11, 12, 13, 14, 15, 16, 17, 18, 19, 20, 21, 22, 23, 24, 25, 26, 27, 28, 29, 30, 31, 32, 33, 34, 35, 36, 37, 38, 39, 40, 41, 42, 43, 44, 45, 46, 47, 48, 49, 50, 51, 52, 53, 54, 55, 56, 57, 58, 59, 60, 61, 62, 63, 64, 65, 66, 67, 68, 69, 70, 71, 72, 73, 74, 75, 76, 77, 78, 79, 80, 81, 82, 83, 84, 85, 86, 87, 88, 89, 90, 91, 92, 93, 94, 95, 96, 97, 98, 99]\n"
     ]
    }
   ],
   "source": [
    "lines = df['lineindex'].unique().tolist()\n",
    "print(lines)"
   ]
  },
  {
   "cell_type": "markdown",
   "metadata": {},
   "source": [
    "### Prepare to find all peaks\n",
    "\n",
    "First set the index for faster lookup"
   ]
  },
  {
   "cell_type": "code",
   "execution_count": 14,
   "metadata": {},
   "outputs": [],
   "source": [
    "df_nopts = df[['timestep','lineindex','pointindex','intensity']].copy()"
   ]
  },
  {
   "cell_type": "code",
   "execution_count": 15,
   "metadata": {},
   "outputs": [
    {
     "data": {
      "text/html": [
       "<div>\n",
       "<style scoped>\n",
       "    .dataframe tbody tr th:only-of-type {\n",
       "        vertical-align: middle;\n",
       "    }\n",
       "\n",
       "    .dataframe tbody tr th {\n",
       "        vertical-align: top;\n",
       "    }\n",
       "\n",
       "    .dataframe thead th {\n",
       "        text-align: right;\n",
       "    }\n",
       "</style>\n",
       "<table border=\"1\" class=\"dataframe\">\n",
       "  <thead>\n",
       "    <tr style=\"text-align: right;\">\n",
       "      <th></th>\n",
       "      <th></th>\n",
       "      <th>pointindex</th>\n",
       "      <th>intensity</th>\n",
       "    </tr>\n",
       "    <tr>\n",
       "      <th>timestep</th>\n",
       "      <th>lineindex</th>\n",
       "      <th></th>\n",
       "      <th></th>\n",
       "    </tr>\n",
       "  </thead>\n",
       "  <tbody>\n",
       "    <tr>\n",
       "      <th rowspan=\"5\" valign=\"top\">0</th>\n",
       "      <th>0</th>\n",
       "      <td>0</td>\n",
       "      <td>0.0</td>\n",
       "    </tr>\n",
       "    <tr>\n",
       "      <th>0</th>\n",
       "      <td>1</td>\n",
       "      <td>0.0</td>\n",
       "    </tr>\n",
       "    <tr>\n",
       "      <th>0</th>\n",
       "      <td>2</td>\n",
       "      <td>0.0</td>\n",
       "    </tr>\n",
       "    <tr>\n",
       "      <th>0</th>\n",
       "      <td>3</td>\n",
       "      <td>0.0</td>\n",
       "    </tr>\n",
       "    <tr>\n",
       "      <th>0</th>\n",
       "      <td>4</td>\n",
       "      <td>0.0</td>\n",
       "    </tr>\n",
       "  </tbody>\n",
       "</table>\n",
       "</div>"
      ],
      "text/plain": [
       "                    pointindex  intensity\n",
       "timestep lineindex                       \n",
       "0        0                   0        0.0\n",
       "         0                   1        0.0\n",
       "         0                   2        0.0\n",
       "         0                   3        0.0\n",
       "         0                   4        0.0"
      ]
     },
     "execution_count": 15,
     "metadata": {},
     "output_type": "execute_result"
    }
   ],
   "source": [
    "df_intensities = df_nopts.set_index(keys=['timestep','lineindex'])\n",
    "df_intensities.head()"
   ]
  },
  {
   "cell_type": "code",
   "execution_count": 16,
   "metadata": {},
   "outputs": [
    {
     "data": {
      "text/html": [
       "<div>\n",
       "<style scoped>\n",
       "    .dataframe tbody tr th:only-of-type {\n",
       "        vertical-align: middle;\n",
       "    }\n",
       "\n",
       "    .dataframe tbody tr th {\n",
       "        vertical-align: top;\n",
       "    }\n",
       "\n",
       "    .dataframe thead th {\n",
       "        text-align: right;\n",
       "    }\n",
       "</style>\n",
       "<table border=\"1\" class=\"dataframe\">\n",
       "  <thead>\n",
       "    <tr style=\"text-align: right;\">\n",
       "      <th></th>\n",
       "      <th></th>\n",
       "      <th></th>\n",
       "      <th>intensity</th>\n",
       "    </tr>\n",
       "    <tr>\n",
       "      <th>timestep</th>\n",
       "      <th>lineindex</th>\n",
       "      <th>pointindex</th>\n",
       "      <th></th>\n",
       "    </tr>\n",
       "  </thead>\n",
       "  <tbody>\n",
       "    <tr>\n",
       "      <th rowspan=\"5\" valign=\"top\">0</th>\n",
       "      <th rowspan=\"5\" valign=\"top\">0</th>\n",
       "      <th>0</th>\n",
       "      <td>0.0</td>\n",
       "    </tr>\n",
       "    <tr>\n",
       "      <th>1</th>\n",
       "      <td>0.0</td>\n",
       "    </tr>\n",
       "    <tr>\n",
       "      <th>2</th>\n",
       "      <td>0.0</td>\n",
       "    </tr>\n",
       "    <tr>\n",
       "      <th>3</th>\n",
       "      <td>0.0</td>\n",
       "    </tr>\n",
       "    <tr>\n",
       "      <th>4</th>\n",
       "      <td>0.0</td>\n",
       "    </tr>\n",
       "  </tbody>\n",
       "</table>\n",
       "</div>"
      ],
      "text/plain": [
       "                               intensity\n",
       "timestep lineindex pointindex           \n",
       "0        0         0                 0.0\n",
       "                   1                 0.0\n",
       "                   2                 0.0\n",
       "                   3                 0.0\n",
       "                   4                 0.0"
      ]
     },
     "execution_count": 16,
     "metadata": {},
     "output_type": "execute_result"
    }
   ],
   "source": [
    "df_intensities2 = df_nopts.set_index(keys=['timestep','lineindex','pointindex'])\n",
    "df_intensities2.head()"
   ]
  },
  {
   "cell_type": "markdown",
   "metadata": {},
   "source": [
    "#### Trying a couple methods for combining columns into a tuple\n",
    "\n",
    "to try out multi-index vs unique tuple index speed\n",
    "\n",
    "**Turns out that it's really recommended to use a multi-index rather than tuples for an index**"
   ]
  },
  {
   "cell_type": "code",
   "execution_count": 17,
   "metadata": {},
   "outputs": [
    {
     "name": "stdout",
     "output_type": "stream",
     "text": [
      "8.73 s ± 65.2 ms per loop (mean ± std. dev. of 7 runs, 1 loop each)\n"
     ]
    }
   ],
   "source": [
    "%timeit df[['timestep','lineindex']].apply(tuple, axis=1)"
   ]
  },
  {
   "cell_type": "code",
   "execution_count": 18,
   "metadata": {},
   "outputs": [
    {
     "name": "stdout",
     "output_type": "stream",
     "text": [
      "347 ms ± 19.2 ms per loop (mean ± std. dev. of 7 runs, 1 loop each)\n"
     ]
    }
   ],
   "source": [
    "%timeit list(zip(df['timestep'], df['lineindex'],df['pointindex']))"
   ]
  },
  {
   "cell_type": "code",
   "execution_count": 19,
   "metadata": {},
   "outputs": [
    {
     "data": {
      "text/plain": [
       "[(0, 0, 0),\n",
       " (0, 0, 1),\n",
       " (0, 0, 2),\n",
       " (0, 0, 3),\n",
       " (0, 0, 4),\n",
       " (0, 0, 5),\n",
       " (0, 0, 6),\n",
       " (0, 0, 7),\n",
       " (0, 0, 8),\n",
       " (0, 0, 9)]"
      ]
     },
     "execution_count": 19,
     "metadata": {},
     "output_type": "execute_result"
    }
   ],
   "source": [
    "list(zip(df['timestep'], df['lineindex'],df['pointindex']))[:10]"
   ]
  },
  {
   "cell_type": "markdown",
   "metadata": {},
   "source": [
    "#### Lookup speed"
   ]
  },
  {
   "cell_type": "code",
   "execution_count": 20,
   "metadata": {},
   "outputs": [
    {
     "name": "stdout",
     "output_type": "stream",
     "text": [
      "7.09 ms ± 734 µs per loop (mean ± std. dev. of 7 runs, 100 loops each)\n"
     ]
    }
   ],
   "source": [
    "%timeit df_intensities.loc[(20,0),:]"
   ]
  },
  {
   "cell_type": "code",
   "execution_count": 21,
   "metadata": {},
   "outputs": [
    {
     "name": "stdout",
     "output_type": "stream",
     "text": [
      "7.24 ms ± 2.43 ms per loop (mean ± std. dev. of 7 runs, 100 loops each)\n"
     ]
    }
   ],
   "source": [
    "%timeit df_intensities2.loc[(20,0),:]"
   ]
  },
  {
   "cell_type": "code",
   "execution_count": 22,
   "metadata": {},
   "outputs": [
    {
     "name": "stdout",
     "output_type": "stream",
     "text": [
      "10.5 ms ± 693 µs per loop (mean ± std. dev. of 7 runs, 100 loops each)\n"
     ]
    }
   ],
   "source": [
    "idx = pd.IndexSlice\n",
    "%timeit df_intensities2.loc[idx[20,0,:],:]"
   ]
  },
  {
   "cell_type": "code",
   "execution_count": 23,
   "metadata": {},
   "outputs": [
    {
     "name": "stdout",
     "output_type": "stream",
     "text": [
      "239 µs ± 1.39 µs per loop (mean ± std. dev. of 7 runs, 1000 loops each)\n"
     ]
    }
   ],
   "source": [
    "%timeit df_intensities2.loc[(20,0,1),:]"
   ]
  },
  {
   "cell_type": "code",
   "execution_count": 24,
   "metadata": {},
   "outputs": [
    {
     "name": "stdout",
     "output_type": "stream",
     "text": [
      "13.9 ms ± 801 µs per loop (mean ± std. dev. of 7 runs, 100 loops each)\n"
     ]
    }
   ],
   "source": [
    "%timeit df_intensities2.loc[(20,0,[0,1,2]),:]"
   ]
  },
  {
   "cell_type": "code",
   "execution_count": 25,
   "metadata": {},
   "outputs": [
    {
     "name": "stdout",
     "output_type": "stream",
     "text": [
      "5.71 ms ± 236 µs per loop (mean ± std. dev. of 7 runs, 100 loops each)\n"
     ]
    }
   ],
   "source": [
    "%timeit df_intensities2.loc[[(20,0,0),(20,0,1),(20,0,2)],:]"
   ]
  },
  {
   "cell_type": "code",
   "execution_count": 26,
   "metadata": {},
   "outputs": [
    {
     "name": "stdout",
     "output_type": "stream",
     "text": [
      "6.53 ms ± 980 µs per loop (mean ± std. dev. of 7 runs, 100 loops each)\n"
     ]
    }
   ],
   "source": [
    "%timeit df_intensities2.loc[(20,0,0):(20,0,20),:]"
   ]
  },
  {
   "cell_type": "code",
   "execution_count": 27,
   "metadata": {},
   "outputs": [
    {
     "name": "stdout",
     "output_type": "stream",
     "text": [
      "23.9 ms ± 72.6 µs per loop (mean ± std. dev. of 7 runs, 10 loops each)\n"
     ]
    }
   ],
   "source": [
    "%timeit [df_intensities2.loc[xx,:] for xx in list(zip([20]*100,[0]*100,range(101)))]"
   ]
  },
  {
   "cell_type": "code",
   "execution_count": 28,
   "metadata": {},
   "outputs": [
    {
     "data": {
      "text/plain": [
       "array([8.80729155e-03, 1.04131678e-02, 1.20849205e-02, 1.38225495e-02,\n",
       "       1.56260549e-02, 1.74954367e-02, 1.94306949e-02, 2.14318303e-02,\n",
       "       2.34988406e-02, 2.56317286e-02, 2.78304916e-02, 4.29184172e-02,\n",
       "       5.91531198e-02, 7.50746612e-02, 9.06830291e-02, 1.05978201e-01,\n",
       "       1.20960222e-01, 1.35629069e-01, 1.49984744e-01, 1.64027223e-01,\n",
       "       1.77756551e-01, 1.72568432e-01, 1.62916617e-01, 1.53573917e-01,\n",
       "       1.44540309e-01, 1.35815801e-01, 1.27400397e-01, 1.19294095e-01,\n",
       "       1.11496897e-01, 1.04008824e-01, 9.68298300e-02, 1.07018263e-01,\n",
       "       1.24558190e-01, 1.41966082e-01, 1.59241938e-01, 1.76385759e-01,\n",
       "       1.93390081e-01, 2.10619395e-01, 2.28183378e-01, 2.46081980e-01,\n",
       "       2.64315198e-01, 2.81702526e-01, 2.97856031e-01, 3.13381602e-01,\n",
       "       3.28279239e-01, 3.42548900e-01, 3.56190668e-01, 3.69204507e-01,\n",
       "       3.81590415e-01, 3.93348380e-01, 4.04478421e-01, 3.91685111e-01,\n",
       "       3.55367523e-01, 3.19592432e-01, 2.84359422e-01, 2.49668915e-01,\n",
       "       2.15520495e-01, 1.81914571e-01, 1.48850936e-01, 1.16329400e-01,\n",
       "       8.43503502e-02, 6.33743211e-02, 5.85946809e-02, 5.37265167e-02,\n",
       "       4.87698874e-02, 4.37247637e-02, 3.85911145e-02, 3.33690017e-02,\n",
       "       2.80583622e-02, 2.26592602e-02, 1.71716311e-02, 1.32050868e-02,\n",
       "       1.32490974e-02, 1.32403109e-02, 1.31787250e-02, 1.30643391e-02,\n",
       "       1.28971562e-02, 1.26771725e-02, 1.24043919e-02, 1.20788105e-02,\n",
       "       1.17004323e-02, 1.13916667e-02, 1.15891112e-02, 1.18069006e-02,\n",
       "       1.20450374e-02, 1.23035178e-02, 1.25823452e-02, 1.28815163e-02,\n",
       "       1.32010346e-02, 1.35408965e-02, 1.39011034e-02, 1.41973580e-02,\n",
       "       1.36456993e-02, 1.30680644e-02, 1.24644607e-02, 1.18348808e-02,\n",
       "       1.11793324e-02, 1.04978074e-02, 9.79031376e-03, 9.05684759e-03,\n",
       "       8.29740564e-03, 7.51199451e-03, 6.68234890e-03, 5.87139552e-03,\n",
       "       5.07956432e-03, 4.30684738e-03, 3.55324522e-03, 2.81405063e-03,\n",
       "       2.09448014e-03, 1.39746040e-03, 7.22983287e-04, 7.10484265e-05])"
      ]
     },
     "execution_count": 28,
     "metadata": {},
     "output_type": "execute_result"
    }
   ],
   "source": [
    "df_intensities2.loc[(20,0),'intensity'].values"
   ]
  },
  {
   "cell_type": "markdown",
   "metadata": {},
   "source": [
    "---\n",
    "\n",
    "## Actually find all peaks\n",
    "\n",
    "53 sec on desktop machine\n",
    "\n",
    "Trying just keeping all data in the DataFrame, then looking up point and storing right after doing peak finding."
   ]
  },
  {
   "cell_type": "code",
   "execution_count": 29,
   "metadata": {},
   "outputs": [],
   "source": [
    "df_mi = df.set_index(keys=['timestep','lineindex','pointindex'])"
   ]
  },
  {
   "cell_type": "markdown",
   "metadata": {},
   "source": [
    "#### Note that just giving a couple levels of a multi-index removes them in return"
   ]
  },
  {
   "cell_type": "code",
   "execution_count": 30,
   "metadata": {},
   "outputs": [
    {
     "data": {
      "text/html": [
       "<div>\n",
       "<style scoped>\n",
       "    .dataframe tbody tr th:only-of-type {\n",
       "        vertical-align: middle;\n",
       "    }\n",
       "\n",
       "    .dataframe tbody tr th {\n",
       "        vertical-align: top;\n",
       "    }\n",
       "\n",
       "    .dataframe thead th {\n",
       "        text-align: right;\n",
       "    }\n",
       "</style>\n",
       "<table border=\"1\" class=\"dataframe\">\n",
       "  <thead>\n",
       "    <tr style=\"text-align: right;\">\n",
       "      <th></th>\n",
       "      <th>intensity</th>\n",
       "      <th>px</th>\n",
       "      <th>py</th>\n",
       "      <th>pz</th>\n",
       "    </tr>\n",
       "    <tr>\n",
       "      <th>pointindex</th>\n",
       "      <th></th>\n",
       "      <th></th>\n",
       "      <th></th>\n",
       "      <th></th>\n",
       "    </tr>\n",
       "  </thead>\n",
       "  <tbody>\n",
       "    <tr>\n",
       "      <th>0</th>\n",
       "      <td>127.016366</td>\n",
       "      <td>0.000000</td>\n",
       "      <td>0.000000</td>\n",
       "      <td>0.00000</td>\n",
       "    </tr>\n",
       "    <tr>\n",
       "      <th>1</th>\n",
       "      <td>130.054485</td>\n",
       "      <td>-0.004845</td>\n",
       "      <td>-0.000449</td>\n",
       "      <td>0.00115</td>\n",
       "    </tr>\n",
       "    <tr>\n",
       "      <th>2</th>\n",
       "      <td>132.617029</td>\n",
       "      <td>-0.009690</td>\n",
       "      <td>-0.000898</td>\n",
       "      <td>0.00230</td>\n",
       "    </tr>\n",
       "    <tr>\n",
       "      <th>3</th>\n",
       "      <td>134.717897</td>\n",
       "      <td>-0.014536</td>\n",
       "      <td>-0.001347</td>\n",
       "      <td>0.00345</td>\n",
       "    </tr>\n",
       "    <tr>\n",
       "      <th>4</th>\n",
       "      <td>136.370983</td>\n",
       "      <td>-0.019381</td>\n",
       "      <td>-0.001796</td>\n",
       "      <td>0.00460</td>\n",
       "    </tr>\n",
       "    <tr>\n",
       "      <th>...</th>\n",
       "      <td>...</td>\n",
       "      <td>...</td>\n",
       "      <td>...</td>\n",
       "      <td>...</td>\n",
       "    </tr>\n",
       "    <tr>\n",
       "      <th>196</th>\n",
       "      <td>0.000000</td>\n",
       "      <td>-0.949657</td>\n",
       "      <td>-0.088014</td>\n",
       "      <td>0.22540</td>\n",
       "    </tr>\n",
       "    <tr>\n",
       "      <th>197</th>\n",
       "      <td>0.000000</td>\n",
       "      <td>-0.954502</td>\n",
       "      <td>-0.088463</td>\n",
       "      <td>0.22655</td>\n",
       "    </tr>\n",
       "    <tr>\n",
       "      <th>198</th>\n",
       "      <td>0.000000</td>\n",
       "      <td>-0.959347</td>\n",
       "      <td>-0.088912</td>\n",
       "      <td>0.22770</td>\n",
       "    </tr>\n",
       "    <tr>\n",
       "      <th>199</th>\n",
       "      <td>0.000000</td>\n",
       "      <td>-0.964193</td>\n",
       "      <td>-0.089361</td>\n",
       "      <td>0.22885</td>\n",
       "    </tr>\n",
       "    <tr>\n",
       "      <th>200</th>\n",
       "      <td>0.000000</td>\n",
       "      <td>-0.969038</td>\n",
       "      <td>-0.089810</td>\n",
       "      <td>0.23000</td>\n",
       "    </tr>\n",
       "  </tbody>\n",
       "</table>\n",
       "<p>201 rows × 4 columns</p>\n",
       "</div>"
      ],
      "text/plain": [
       "             intensity        px        py       pz\n",
       "pointindex                                         \n",
       "0           127.016366  0.000000  0.000000  0.00000\n",
       "1           130.054485 -0.004845 -0.000449  0.00115\n",
       "2           132.617029 -0.009690 -0.000898  0.00230\n",
       "3           134.717897 -0.014536 -0.001347  0.00345\n",
       "4           136.370983 -0.019381 -0.001796  0.00460\n",
       "...                ...       ...       ...      ...\n",
       "196           0.000000 -0.949657 -0.088014  0.22540\n",
       "197           0.000000 -0.954502 -0.088463  0.22655\n",
       "198           0.000000 -0.959347 -0.088912  0.22770\n",
       "199           0.000000 -0.964193 -0.089361  0.22885\n",
       "200           0.000000 -0.969038 -0.089810  0.23000\n",
       "\n",
       "[201 rows x 4 columns]"
      ]
     },
     "execution_count": 30,
     "metadata": {},
     "output_type": "execute_result"
    }
   ],
   "source": [
    "idx = pd.IndexSlice\n",
    "df_mi.loc[(2,38),:]"
   ]
  },
  {
   "cell_type": "markdown",
   "metadata": {},
   "source": [
    "#### For some reason IndexSlice keeps the multi-index in place after selection!\n",
    "\n",
    "As seen above, this is slightly slower, but it's useful here for me to retain all data\n",
    "\n",
    "https://pandas.pydata.org/pandas-docs/stable/user_guide/advanced.html"
   ]
  },
  {
   "cell_type": "code",
   "execution_count": 49,
   "metadata": {},
   "outputs": [
    {
     "name": "stdout",
     "output_type": "stream",
     "text": [
      "10.9 ms ± 788 µs per loop (mean ± std. dev. of 7 runs, 100 loops each)\n"
     ]
    }
   ],
   "source": [
    "%timeit df_mi.loc[idx[25,80,:],:]"
   ]
  },
  {
   "cell_type": "code",
   "execution_count": 50,
   "metadata": {},
   "outputs": [
    {
     "name": "stdout",
     "output_type": "stream",
     "text": [
      "8.78 ms ± 77.1 µs per loop (mean ± std. dev. of 7 runs, 100 loops each)\n"
     ]
    }
   ],
   "source": [
    "%timeit df_mi.loc[idx[25,:,:],:]"
   ]
  },
  {
   "cell_type": "code",
   "execution_count": 52,
   "metadata": {},
   "outputs": [
    {
     "name": "stdout",
     "output_type": "stream",
     "text": [
      "712 µs ± 5.98 µs per loop (mean ± std. dev. of 7 runs, 1000 loops each)\n"
     ]
    }
   ],
   "source": [
    "df_mi_25 = df_mi.loc[(25,),:]\n",
    "%timeit df_mi_25.loc[idx[80,:],:]"
   ]
  },
  {
   "cell_type": "code",
   "execution_count": 31,
   "metadata": {},
   "outputs": [
    {
     "data": {
      "text/html": [
       "<div>\n",
       "<style scoped>\n",
       "    .dataframe tbody tr th:only-of-type {\n",
       "        vertical-align: middle;\n",
       "    }\n",
       "\n",
       "    .dataframe tbody tr th {\n",
       "        vertical-align: top;\n",
       "    }\n",
       "\n",
       "    .dataframe thead th {\n",
       "        text-align: right;\n",
       "    }\n",
       "</style>\n",
       "<table border=\"1\" class=\"dataframe\">\n",
       "  <thead>\n",
       "    <tr style=\"text-align: right;\">\n",
       "      <th></th>\n",
       "      <th></th>\n",
       "      <th></th>\n",
       "      <th>intensity</th>\n",
       "      <th>px</th>\n",
       "      <th>py</th>\n",
       "      <th>pz</th>\n",
       "    </tr>\n",
       "    <tr>\n",
       "      <th>timestep</th>\n",
       "      <th>lineindex</th>\n",
       "      <th>pointindex</th>\n",
       "      <th></th>\n",
       "      <th></th>\n",
       "      <th></th>\n",
       "      <th></th>\n",
       "    </tr>\n",
       "  </thead>\n",
       "  <tbody>\n",
       "    <tr>\n",
       "      <th rowspan=\"11\" valign=\"top\">2</th>\n",
       "      <th rowspan=\"11\" valign=\"top\">38</th>\n",
       "      <th>0</th>\n",
       "      <td>127.016366</td>\n",
       "      <td>0.000000</td>\n",
       "      <td>0.000000</td>\n",
       "      <td>0.00000</td>\n",
       "    </tr>\n",
       "    <tr>\n",
       "      <th>1</th>\n",
       "      <td>130.054485</td>\n",
       "      <td>-0.004845</td>\n",
       "      <td>-0.000449</td>\n",
       "      <td>0.00115</td>\n",
       "    </tr>\n",
       "    <tr>\n",
       "      <th>2</th>\n",
       "      <td>132.617029</td>\n",
       "      <td>-0.009690</td>\n",
       "      <td>-0.000898</td>\n",
       "      <td>0.00230</td>\n",
       "    </tr>\n",
       "    <tr>\n",
       "      <th>3</th>\n",
       "      <td>134.717897</td>\n",
       "      <td>-0.014536</td>\n",
       "      <td>-0.001347</td>\n",
       "      <td>0.00345</td>\n",
       "    </tr>\n",
       "    <tr>\n",
       "      <th>4</th>\n",
       "      <td>136.370983</td>\n",
       "      <td>-0.019381</td>\n",
       "      <td>-0.001796</td>\n",
       "      <td>0.00460</td>\n",
       "    </tr>\n",
       "    <tr>\n",
       "      <th>...</th>\n",
       "      <td>...</td>\n",
       "      <td>...</td>\n",
       "      <td>...</td>\n",
       "      <td>...</td>\n",
       "    </tr>\n",
       "    <tr>\n",
       "      <th>196</th>\n",
       "      <td>0.000000</td>\n",
       "      <td>-0.949657</td>\n",
       "      <td>-0.088014</td>\n",
       "      <td>0.22540</td>\n",
       "    </tr>\n",
       "    <tr>\n",
       "      <th>197</th>\n",
       "      <td>0.000000</td>\n",
       "      <td>-0.954502</td>\n",
       "      <td>-0.088463</td>\n",
       "      <td>0.22655</td>\n",
       "    </tr>\n",
       "    <tr>\n",
       "      <th>198</th>\n",
       "      <td>0.000000</td>\n",
       "      <td>-0.959347</td>\n",
       "      <td>-0.088912</td>\n",
       "      <td>0.22770</td>\n",
       "    </tr>\n",
       "    <tr>\n",
       "      <th>199</th>\n",
       "      <td>0.000000</td>\n",
       "      <td>-0.964193</td>\n",
       "      <td>-0.089361</td>\n",
       "      <td>0.22885</td>\n",
       "    </tr>\n",
       "    <tr>\n",
       "      <th>200</th>\n",
       "      <td>0.000000</td>\n",
       "      <td>-0.969038</td>\n",
       "      <td>-0.089810</td>\n",
       "      <td>0.23000</td>\n",
       "    </tr>\n",
       "  </tbody>\n",
       "</table>\n",
       "<p>201 rows × 4 columns</p>\n",
       "</div>"
      ],
      "text/plain": [
       "                                intensity        px        py       pz\n",
       "timestep lineindex pointindex                                         \n",
       "2        38        0           127.016366  0.000000  0.000000  0.00000\n",
       "                   1           130.054485 -0.004845 -0.000449  0.00115\n",
       "                   2           132.617029 -0.009690 -0.000898  0.00230\n",
       "                   3           134.717897 -0.014536 -0.001347  0.00345\n",
       "                   4           136.370983 -0.019381 -0.001796  0.00460\n",
       "...                                   ...       ...       ...      ...\n",
       "                   196           0.000000 -0.949657 -0.088014  0.22540\n",
       "                   197           0.000000 -0.954502 -0.088463  0.22655\n",
       "                   198           0.000000 -0.959347 -0.088912  0.22770\n",
       "                   199           0.000000 -0.964193 -0.089361  0.22885\n",
       "                   200           0.000000 -0.969038 -0.089810  0.23000\n",
       "\n",
       "[201 rows x 4 columns]"
      ]
     },
     "execution_count": 31,
     "metadata": {},
     "output_type": "execute_result"
    }
   ],
   "source": [
    "idx = pd.IndexSlice\n",
    "df_mi.loc[idx[2,38,:],:]"
   ]
  },
  {
   "cell_type": "markdown",
   "metadata": {},
   "source": [
    "#### Could have compiled list of lists for final DataFrame\n",
    "\n",
    "But if possible I always want to avoid relying on column order and would instead rather access items by name to make sure there aren't any indexing mistakes.\n",
    "\n",
    "*Takes about 65 sec on desktop...*"
   ]
  },
  {
   "cell_type": "code",
   "execution_count": 36,
   "metadata": {},
   "outputs": [
    {
     "data": {
      "text/html": [
       "<div>\n",
       "<style scoped>\n",
       "    .dataframe tbody tr th:only-of-type {\n",
       "        vertical-align: middle;\n",
       "    }\n",
       "\n",
       "    .dataframe tbody tr th {\n",
       "        vertical-align: top;\n",
       "    }\n",
       "\n",
       "    .dataframe thead th {\n",
       "        text-align: right;\n",
       "    }\n",
       "</style>\n",
       "<table border=\"1\" class=\"dataframe\">\n",
       "  <thead>\n",
       "    <tr style=\"text-align: right;\">\n",
       "      <th></th>\n",
       "      <th>timestep</th>\n",
       "      <th>lineindex</th>\n",
       "      <th>pointindex</th>\n",
       "      <th>peakindex</th>\n",
       "      <th>intensity</th>\n",
       "      <th>px</th>\n",
       "      <th>py</th>\n",
       "      <th>pz</th>\n",
       "    </tr>\n",
       "  </thead>\n",
       "  <tbody>\n",
       "    <tr>\n",
       "      <th>0</th>\n",
       "      <td>2</td>\n",
       "      <td>38</td>\n",
       "      <td>5</td>\n",
       "      <td>0</td>\n",
       "      <td>137.590190</td>\n",
       "      <td>-0.024226</td>\n",
       "      <td>-0.002245</td>\n",
       "      <td>0.00575</td>\n",
       "    </tr>\n",
       "    <tr>\n",
       "      <th>1</th>\n",
       "      <td>2</td>\n",
       "      <td>46</td>\n",
       "      <td>5</td>\n",
       "      <td>0</td>\n",
       "      <td>137.988263</td>\n",
       "      <td>-0.022536</td>\n",
       "      <td>-0.010680</td>\n",
       "      <td>0.00175</td>\n",
       "    </tr>\n",
       "    <tr>\n",
       "      <th>2</th>\n",
       "      <td>2</td>\n",
       "      <td>51</td>\n",
       "      <td>5</td>\n",
       "      <td>0</td>\n",
       "      <td>143.930799</td>\n",
       "      <td>-0.024797</td>\n",
       "      <td>0.003090</td>\n",
       "      <td>-0.00075</td>\n",
       "    </tr>\n",
       "    <tr>\n",
       "      <th>3</th>\n",
       "      <td>2</td>\n",
       "      <td>54</td>\n",
       "      <td>2</td>\n",
       "      <td>0</td>\n",
       "      <td>129.948551</td>\n",
       "      <td>-0.006991</td>\n",
       "      <td>-0.007094</td>\n",
       "      <td>-0.00090</td>\n",
       "    </tr>\n",
       "    <tr>\n",
       "      <th>4</th>\n",
       "      <td>2</td>\n",
       "      <td>59</td>\n",
       "      <td>5</td>\n",
       "      <td>0</td>\n",
       "      <td>136.482308</td>\n",
       "      <td>-0.023920</td>\n",
       "      <td>-0.005504</td>\n",
       "      <td>-0.00475</td>\n",
       "    </tr>\n",
       "    <tr>\n",
       "      <th>5</th>\n",
       "      <td>3</td>\n",
       "      <td>38</td>\n",
       "      <td>5</td>\n",
       "      <td>0</td>\n",
       "      <td>172.449343</td>\n",
       "      <td>-0.024226</td>\n",
       "      <td>-0.002245</td>\n",
       "      <td>0.00575</td>\n",
       "    </tr>\n",
       "    <tr>\n",
       "      <th>6</th>\n",
       "      <td>3</td>\n",
       "      <td>46</td>\n",
       "      <td>3</td>\n",
       "      <td>0</td>\n",
       "      <td>170.189309</td>\n",
       "      <td>-0.013522</td>\n",
       "      <td>-0.006408</td>\n",
       "      <td>0.00105</td>\n",
       "    </tr>\n",
       "    <tr>\n",
       "      <th>7</th>\n",
       "      <td>3</td>\n",
       "      <td>51</td>\n",
       "      <td>5</td>\n",
       "      <td>0</td>\n",
       "      <td>180.183359</td>\n",
       "      <td>-0.024797</td>\n",
       "      <td>0.003090</td>\n",
       "      <td>-0.00075</td>\n",
       "    </tr>\n",
       "    <tr>\n",
       "      <th>8</th>\n",
       "      <td>3</td>\n",
       "      <td>59</td>\n",
       "      <td>4</td>\n",
       "      <td>0</td>\n",
       "      <td>170.110353</td>\n",
       "      <td>-0.019136</td>\n",
       "      <td>-0.004403</td>\n",
       "      <td>-0.00380</td>\n",
       "    </tr>\n",
       "    <tr>\n",
       "      <th>9</th>\n",
       "      <td>4</td>\n",
       "      <td>38</td>\n",
       "      <td>5</td>\n",
       "      <td>0</td>\n",
       "      <td>68.465367</td>\n",
       "      <td>-0.024226</td>\n",
       "      <td>-0.002245</td>\n",
       "      <td>0.00575</td>\n",
       "    </tr>\n",
       "    <tr>\n",
       "      <th>10</th>\n",
       "      <td>4</td>\n",
       "      <td>46</td>\n",
       "      <td>5</td>\n",
       "      <td>0</td>\n",
       "      <td>71.429724</td>\n",
       "      <td>-0.022536</td>\n",
       "      <td>-0.010680</td>\n",
       "      <td>0.00175</td>\n",
       "    </tr>\n",
       "    <tr>\n",
       "      <th>11</th>\n",
       "      <td>4</td>\n",
       "      <td>51</td>\n",
       "      <td>5</td>\n",
       "      <td>0</td>\n",
       "      <td>72.747952</td>\n",
       "      <td>-0.024797</td>\n",
       "      <td>0.003090</td>\n",
       "      <td>-0.00075</td>\n",
       "    </tr>\n",
       "    <tr>\n",
       "      <th>12</th>\n",
       "      <td>4</td>\n",
       "      <td>54</td>\n",
       "      <td>4</td>\n",
       "      <td>0</td>\n",
       "      <td>67.478994</td>\n",
       "      <td>-0.013981</td>\n",
       "      <td>-0.014187</td>\n",
       "      <td>-0.00180</td>\n",
       "    </tr>\n",
       "    <tr>\n",
       "      <th>13</th>\n",
       "      <td>4</td>\n",
       "      <td>59</td>\n",
       "      <td>5</td>\n",
       "      <td>0</td>\n",
       "      <td>68.914941</td>\n",
       "      <td>-0.023920</td>\n",
       "      <td>-0.005504</td>\n",
       "      <td>-0.00475</td>\n",
       "    </tr>\n",
       "    <tr>\n",
       "      <th>14</th>\n",
       "      <td>5</td>\n",
       "      <td>0</td>\n",
       "      <td>91</td>\n",
       "      <td>0</td>\n",
       "      <td>0.089951</td>\n",
       "      <td>0.064186</td>\n",
       "      <td>0.000000</td>\n",
       "      <td>0.45045</td>\n",
       "    </tr>\n",
       "    <tr>\n",
       "      <th>15</th>\n",
       "      <td>5</td>\n",
       "      <td>46</td>\n",
       "      <td>4</td>\n",
       "      <td>0</td>\n",
       "      <td>21.673026</td>\n",
       "      <td>-0.018029</td>\n",
       "      <td>-0.008544</td>\n",
       "      <td>0.00140</td>\n",
       "    </tr>\n",
       "    <tr>\n",
       "      <th>16</th>\n",
       "      <td>5</td>\n",
       "      <td>47</td>\n",
       "      <td>2</td>\n",
       "      <td>0</td>\n",
       "      <td>21.654435</td>\n",
       "      <td>0.009544</td>\n",
       "      <td>-0.002943</td>\n",
       "      <td>0.00050</td>\n",
       "    </tr>\n",
       "    <tr>\n",
       "      <th>17</th>\n",
       "      <td>5</td>\n",
       "      <td>51</td>\n",
       "      <td>5</td>\n",
       "      <td>0</td>\n",
       "      <td>22.178420</td>\n",
       "      <td>-0.024797</td>\n",
       "      <td>0.003090</td>\n",
       "      <td>-0.00075</td>\n",
       "    </tr>\n",
       "    <tr>\n",
       "      <th>18</th>\n",
       "      <td>5</td>\n",
       "      <td>55</td>\n",
       "      <td>5</td>\n",
       "      <td>0</td>\n",
       "      <td>22.692502</td>\n",
       "      <td>0.024816</td>\n",
       "      <td>0.001269</td>\n",
       "      <td>-0.00275</td>\n",
       "    </tr>\n",
       "    <tr>\n",
       "      <th>19</th>\n",
       "      <td>5</td>\n",
       "      <td>59</td>\n",
       "      <td>2</td>\n",
       "      <td>0</td>\n",
       "      <td>21.212769</td>\n",
       "      <td>-0.009568</td>\n",
       "      <td>-0.002202</td>\n",
       "      <td>-0.00190</td>\n",
       "    </tr>\n",
       "  </tbody>\n",
       "</table>\n",
       "</div>"
      ],
      "text/plain": [
       "    timestep  lineindex  pointindex  peakindex   intensity        px  \\\n",
       "0          2         38           5          0  137.590190 -0.024226   \n",
       "1          2         46           5          0  137.988263 -0.022536   \n",
       "2          2         51           5          0  143.930799 -0.024797   \n",
       "3          2         54           2          0  129.948551 -0.006991   \n",
       "4          2         59           5          0  136.482308 -0.023920   \n",
       "5          3         38           5          0  172.449343 -0.024226   \n",
       "6          3         46           3          0  170.189309 -0.013522   \n",
       "7          3         51           5          0  180.183359 -0.024797   \n",
       "8          3         59           4          0  170.110353 -0.019136   \n",
       "9          4         38           5          0   68.465367 -0.024226   \n",
       "10         4         46           5          0   71.429724 -0.022536   \n",
       "11         4         51           5          0   72.747952 -0.024797   \n",
       "12         4         54           4          0   67.478994 -0.013981   \n",
       "13         4         59           5          0   68.914941 -0.023920   \n",
       "14         5          0          91          0    0.089951  0.064186   \n",
       "15         5         46           4          0   21.673026 -0.018029   \n",
       "16         5         47           2          0   21.654435  0.009544   \n",
       "17         5         51           5          0   22.178420 -0.024797   \n",
       "18         5         55           5          0   22.692502  0.024816   \n",
       "19         5         59           2          0   21.212769 -0.009568   \n",
       "\n",
       "          py       pz  \n",
       "0  -0.002245  0.00575  \n",
       "1  -0.010680  0.00175  \n",
       "2   0.003090 -0.00075  \n",
       "3  -0.007094 -0.00090  \n",
       "4  -0.005504 -0.00475  \n",
       "5  -0.002245  0.00575  \n",
       "6  -0.006408  0.00105  \n",
       "7   0.003090 -0.00075  \n",
       "8  -0.004403 -0.00380  \n",
       "9  -0.002245  0.00575  \n",
       "10 -0.010680  0.00175  \n",
       "11  0.003090 -0.00075  \n",
       "12 -0.014187 -0.00180  \n",
       "13 -0.005504 -0.00475  \n",
       "14  0.000000  0.45045  \n",
       "15 -0.008544  0.00140  \n",
       "16 -0.002943  0.00050  \n",
       "17  0.003090 -0.00075  \n",
       "18  0.001269 -0.00275  \n",
       "19 -0.002202 -0.00190  "
      ]
     },
     "execution_count": 36,
     "metadata": {},
     "output_type": "execute_result"
    }
   ],
   "source": [
    "idx = pd.IndexSlice\n",
    "\n",
    "peaks_dict = {'timestep':[],\n",
    "              'lineindex':[],\n",
    "              'pointindex':[],\n",
    "              'peakindex':[],\n",
    "              'intensity':[],\n",
    "              'px':[], 'py':[], 'pz':[]}\n",
    "for ts in timesteps[1:]:\n",
    "    for ln in lines:\n",
    "        df_subset = df_mi.loc[idx[ts,ln,:],:]\n",
    "        x = df_subset['intensity'].values\n",
    "        pos_neg_pks = peakdetect.peakdetect(x, lookahead=4, delta=0.05)\n",
    "\n",
    "        # Result are returned as a list of pos,neg peaks, each with index,intensity\n",
    "        pks = [pp[0] for pp in pos_neg_pks[0]]\n",
    "        \n",
    "        for pk_idx,pk in enumerate(pks):\n",
    "            # indexing into df_subset loses index values...\n",
    "            pt_dict = df_subset.loc[(ts,ln,pk),:].to_dict()\n",
    "            peaks_dict['timestep'].append(ts)\n",
    "            peaks_dict['lineindex'].append(ln)\n",
    "            peaks_dict['pointindex'].append(pk)\n",
    "            peaks_dict['peakindex'].append(pk_idx)\n",
    "            for k,v in pt_dict.items():\n",
    "                peaks_dict[k].append(v)\n",
    "\n",
    "df_peaks = pd.DataFrame(peaks_dict)\n",
    "df_peaks.head(20)"
   ]
  },
  {
   "cell_type": "markdown",
   "metadata": {},
   "source": [
    "### Now need to turn this into a real VTK structure of points over time...\n",
    "\n",
    "Try Unstructured Grid from https://pypi.org/project/uvw/"
   ]
  },
  {
   "cell_type": "code",
   "execution_count": 37,
   "metadata": {},
   "outputs": [],
   "source": [
    "from uvw import UnstructuredGrid, DataArray\n",
    "from uvw.unstructured import CellType"
   ]
  },
  {
   "cell_type": "markdown",
   "metadata": {},
   "source": [
    "#### Want one file per timestep"
   ]
  },
  {
   "cell_type": "code",
   "execution_count": 38,
   "metadata": {},
   "outputs": [
    {
     "data": {
      "text/html": [
       "<div>\n",
       "<style scoped>\n",
       "    .dataframe tbody tr th:only-of-type {\n",
       "        vertical-align: middle;\n",
       "    }\n",
       "\n",
       "    .dataframe tbody tr th {\n",
       "        vertical-align: top;\n",
       "    }\n",
       "\n",
       "    .dataframe thead th {\n",
       "        text-align: right;\n",
       "    }\n",
       "</style>\n",
       "<table border=\"1\" class=\"dataframe\">\n",
       "  <thead>\n",
       "    <tr style=\"text-align: right;\">\n",
       "      <th></th>\n",
       "      <th>lineindex</th>\n",
       "      <th>pointindex</th>\n",
       "      <th>peakindex</th>\n",
       "      <th>intensity</th>\n",
       "      <th>px</th>\n",
       "      <th>py</th>\n",
       "      <th>pz</th>\n",
       "    </tr>\n",
       "    <tr>\n",
       "      <th>timestep</th>\n",
       "      <th></th>\n",
       "      <th></th>\n",
       "      <th></th>\n",
       "      <th></th>\n",
       "      <th></th>\n",
       "      <th></th>\n",
       "      <th></th>\n",
       "    </tr>\n",
       "  </thead>\n",
       "  <tbody>\n",
       "    <tr>\n",
       "      <th>2</th>\n",
       "      <td>38</td>\n",
       "      <td>5</td>\n",
       "      <td>0</td>\n",
       "      <td>137.590190</td>\n",
       "      <td>-0.024226</td>\n",
       "      <td>-0.002245</td>\n",
       "      <td>0.00575</td>\n",
       "    </tr>\n",
       "    <tr>\n",
       "      <th>2</th>\n",
       "      <td>46</td>\n",
       "      <td>5</td>\n",
       "      <td>0</td>\n",
       "      <td>137.988263</td>\n",
       "      <td>-0.022536</td>\n",
       "      <td>-0.010680</td>\n",
       "      <td>0.00175</td>\n",
       "    </tr>\n",
       "    <tr>\n",
       "      <th>2</th>\n",
       "      <td>51</td>\n",
       "      <td>5</td>\n",
       "      <td>0</td>\n",
       "      <td>143.930799</td>\n",
       "      <td>-0.024797</td>\n",
       "      <td>0.003090</td>\n",
       "      <td>-0.00075</td>\n",
       "    </tr>\n",
       "    <tr>\n",
       "      <th>2</th>\n",
       "      <td>54</td>\n",
       "      <td>2</td>\n",
       "      <td>0</td>\n",
       "      <td>129.948551</td>\n",
       "      <td>-0.006991</td>\n",
       "      <td>-0.007094</td>\n",
       "      <td>-0.00090</td>\n",
       "    </tr>\n",
       "    <tr>\n",
       "      <th>2</th>\n",
       "      <td>59</td>\n",
       "      <td>5</td>\n",
       "      <td>0</td>\n",
       "      <td>136.482308</td>\n",
       "      <td>-0.023920</td>\n",
       "      <td>-0.005504</td>\n",
       "      <td>-0.00475</td>\n",
       "    </tr>\n",
       "    <tr>\n",
       "      <th>3</th>\n",
       "      <td>38</td>\n",
       "      <td>5</td>\n",
       "      <td>0</td>\n",
       "      <td>172.449343</td>\n",
       "      <td>-0.024226</td>\n",
       "      <td>-0.002245</td>\n",
       "      <td>0.00575</td>\n",
       "    </tr>\n",
       "    <tr>\n",
       "      <th>3</th>\n",
       "      <td>46</td>\n",
       "      <td>3</td>\n",
       "      <td>0</td>\n",
       "      <td>170.189309</td>\n",
       "      <td>-0.013522</td>\n",
       "      <td>-0.006408</td>\n",
       "      <td>0.00105</td>\n",
       "    </tr>\n",
       "    <tr>\n",
       "      <th>3</th>\n",
       "      <td>51</td>\n",
       "      <td>5</td>\n",
       "      <td>0</td>\n",
       "      <td>180.183359</td>\n",
       "      <td>-0.024797</td>\n",
       "      <td>0.003090</td>\n",
       "      <td>-0.00075</td>\n",
       "    </tr>\n",
       "    <tr>\n",
       "      <th>3</th>\n",
       "      <td>59</td>\n",
       "      <td>4</td>\n",
       "      <td>0</td>\n",
       "      <td>170.110353</td>\n",
       "      <td>-0.019136</td>\n",
       "      <td>-0.004403</td>\n",
       "      <td>-0.00380</td>\n",
       "    </tr>\n",
       "    <tr>\n",
       "      <th>4</th>\n",
       "      <td>38</td>\n",
       "      <td>5</td>\n",
       "      <td>0</td>\n",
       "      <td>68.465367</td>\n",
       "      <td>-0.024226</td>\n",
       "      <td>-0.002245</td>\n",
       "      <td>0.00575</td>\n",
       "    </tr>\n",
       "  </tbody>\n",
       "</table>\n",
       "</div>"
      ],
      "text/plain": [
       "          lineindex  pointindex  peakindex   intensity        px        py  \\\n",
       "timestep                                                                     \n",
       "2                38           5          0  137.590190 -0.024226 -0.002245   \n",
       "2                46           5          0  137.988263 -0.022536 -0.010680   \n",
       "2                51           5          0  143.930799 -0.024797  0.003090   \n",
       "2                54           2          0  129.948551 -0.006991 -0.007094   \n",
       "2                59           5          0  136.482308 -0.023920 -0.005504   \n",
       "3                38           5          0  172.449343 -0.024226 -0.002245   \n",
       "3                46           3          0  170.189309 -0.013522 -0.006408   \n",
       "3                51           5          0  180.183359 -0.024797  0.003090   \n",
       "3                59           4          0  170.110353 -0.019136 -0.004403   \n",
       "4                38           5          0   68.465367 -0.024226 -0.002245   \n",
       "\n",
       "               pz  \n",
       "timestep           \n",
       "2         0.00575  \n",
       "2         0.00175  \n",
       "2        -0.00075  \n",
       "2        -0.00090  \n",
       "2        -0.00475  \n",
       "3         0.00575  \n",
       "3         0.00105  \n",
       "3        -0.00075  \n",
       "3        -0.00380  \n",
       "4         0.00575  "
      ]
     },
     "execution_count": 38,
     "metadata": {},
     "output_type": "execute_result"
    }
   ],
   "source": [
    "pts = df_peaks.set_index(keys='timestep')\n",
    "pts.head(10)"
   ]
  },
  {
   "cell_type": "code",
   "execution_count": 43,
   "metadata": {},
   "outputs": [
    {
     "data": {
      "text/plain": [
       "{'intensity', 'lineindex', 'peakindex', 'pointindex'}"
      ]
     },
     "execution_count": 43,
     "metadata": {},
     "output_type": "execute_result"
    }
   ],
   "source": [
    "set(pts.columns.tolist())-set(['px', 'py', 'pz'])"
   ]
  },
  {
   "cell_type": "code",
   "execution_count": 46,
   "metadata": {},
   "outputs": [],
   "source": [
    "for ts in pts.index.unique().tolist():\n",
    "    df_subset = pts.loc[ts,:]\n",
    "    nodes = df_subset[['px','py','pz']].to_numpy()\n",
    "    if nodes.ndim == 1:\n",
    "        nodes = np.expand_dims(nodes,0)\n",
    "    n_pts = nodes.shape[0]\n",
    "\n",
    "    # vertex node connectivity needs to be like list of single element lists\n",
    "    connectivity = {\n",
    "        CellType.POLY_VERTEX: np.arange(n_pts).reshape(-1,1)\n",
    "    }\n",
    "\n",
    "    f = UnstructuredGrid('./Ugrid/ugrid_' + str(ts).zfill(2) + '.vtu', nodes, connectivity)\n",
    "    \n",
    "    for col in (set(pts.columns.tolist())-set(['px', 'py', 'pz'])):\n",
    "        if n_pts == 1:\n",
    "            data_array = np.array([df_subset[col]])\n",
    "        else:\n",
    "            data_array = df_subset[col].to_numpy()\n",
    "        f.addPointData(DataArray(data_array, range(1), col))\n",
    "    f.write()"
   ]
  },
  {
   "cell_type": "markdown",
   "metadata": {},
   "source": [
    "### Need to go back and preserve intensities so can maybe threshold points"
   ]
  },
  {
   "cell_type": "code",
   "execution_count": null,
   "metadata": {},
   "outputs": [],
   "source": []
  }
 ],
 "metadata": {
  "kernelspec": {
   "display_name": "Python 3",
   "language": "python",
   "name": "python3"
  },
  "language_info": {
   "codemirror_mode": {
    "name": "ipython",
    "version": 3
   },
   "file_extension": ".py",
   "mimetype": "text/x-python",
   "name": "python",
   "nbconvert_exporter": "python",
   "pygments_lexer": "ipython3",
   "version": "3.8.5"
  }
 },
 "nbformat": 4,
 "nbformat_minor": 4
}
